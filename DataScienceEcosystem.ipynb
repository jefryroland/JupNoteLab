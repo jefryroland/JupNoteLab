{
 "cells": [
  {
   "cell_type": "markdown",
   "id": "073e3173-ee4f-495c-8deb-a8a7c04d13f7",
   "metadata": {
    "tags": []
   },
   "source": [
    "# Data Science Tools and Ecosystem<br>\n",
    "## In this notebook, Data Science Tools and Ecosystem are summarized.\n",
    "**Objectives:**\n",
    "### the Jypyter notebook covered many programming language such as below: \n",
    "- Python \n",
    "- R\n",
    "- Julia \n",
    "- SQL\n",
    "- Swift \n",
    "### Some of the popular languages that Data Scientists use are:\n",
    "- Python\n",
    "- R\n",
    "- SQL\n",
    "\n",
    "### Some of the commonly used libraries used by Data Scientists include: \n",
    "- TensorFlow\n",
    "- NumPy\n",
    "- SciPy <br>\n",
    "\n",
    "|Data Science Tools| \n",
    "| ---------------- |\n",
    "| RStudio |\n",
    "| Apache Spark |\n",
    "| TensorFlow |\n",
    "\n",
    "### Below are a few examples of evaluating arithmetic expressions in Python\n"
   ]
  },
  {
   "cell_type": "code",
   "execution_count": 12,
   "id": "0cdaa601-1936-4537-9447-7e5ada0f6eb7",
   "metadata": {
    "tags": []
   },
   "outputs": [
    {
     "data": {
      "text/plain": [
       "17"
      ]
     },
     "execution_count": 12,
     "metadata": {},
     "output_type": "execute_result"
    }
   ],
   "source": [
    "# This a simple arithmetic expression to mutiply then add integers\n",
    "(3*4)+5"
   ]
  },
  {
   "cell_type": "code",
   "execution_count": 11,
   "id": "fc0dc4d8-c1c1-40b3-ace5-8bd92235c551",
   "metadata": {
    "tags": []
   },
   "outputs": [],
   "source": [
    "# This will convert 200 minutes to hours by diving by 60\n",
    "def convertminutes(h):\n",
    "    minutes=h/60\n",
    "    print(\"hours = \", hours);\n",
    "h = 200;\n"
   ]
  },
  {
   "cell_type": "markdown",
   "id": "5c9f65bd-de46-4ec5-8ed3-efb8cb3d3c80",
   "metadata": {},
   "source": [
    "## Author \n",
    "Jeffrelly R.S"
   ]
  }
 ],
 "metadata": {
  "kernelspec": {
   "display_name": "Python",
   "language": "python",
   "name": "conda-env-python-py"
  },
  "language_info": {
   "codemirror_mode": {
    "name": "ipython",
    "version": 3
   },
   "file_extension": ".py",
   "mimetype": "text/x-python",
   "name": "python",
   "nbconvert_exporter": "python",
   "pygments_lexer": "ipython3",
   "version": "3.7.12"
  }
 },
 "nbformat": 4,
 "nbformat_minor": 5
}
